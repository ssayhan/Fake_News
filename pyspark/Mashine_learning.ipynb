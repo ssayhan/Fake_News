{
  "cells": [
    {
      "cell_type": "code",
      "source": [
        "import os\n",
        "# Find the latest version of spark 3.0 from http://www.apache.org/dist/spark/ and enter as the spark version\n",
        "# For example:\n",
        "# spark_version = 'spark-3.0.3'\n",
        "spark_version = 'spark-3.1.3'\n",
        "os.environ['SPARK_VERSION']=spark_version\n",
        "\n",
        "# Install Spark and Java\n",
        "!apt-get update\n",
        "!apt-get install openjdk-11-jdk-headless -qq > /dev/null\n",
        "!wget -q http://www.apache.org/dist/spark/$SPARK_VERSION/$SPARK_VERSION-bin-hadoop2.7.tgz\n",
        "!tar xf $SPARK_VERSION-bin-hadoop2.7.tgz\n",
        "!pip install -q findspark\n",
        "\n",
        "# Set Environment Variables\n",
        "import os\n",
        "os.environ[\"JAVA_HOME\"] = \"/usr/lib/jvm/java-11-openjdk-amd64\"\n",
        "os.environ[\"SPARK_HOME\"] = f\"/content/{spark_version}-bin-hadoop2.7\"\n",
        "\n",
        "# Start a SparkSession\n",
        "import findspark\n",
        "findspark.init()"
      ],
      "metadata": {
        "colab": {
          "base_uri": "https://localhost:8080/"
        },
        "id": "hSro3PGkCbH3",
        "outputId": "ac544599-0e82-4f61-fb8c-b4bb926e1350"
      },
      "id": "hSro3PGkCbH3",
      "execution_count": null,
      "outputs": [
        {
          "output_type": "stream",
          "name": "stdout",
          "text": [
            "\r0% [Working]\r            \rHit:1 https://cloud.r-project.org/bin/linux/ubuntu bionic-cran40/ InRelease\n",
            "Ign:2 https://developer.download.nvidia.com/compute/machine-learning/repos/ubuntu1804/x86_64  InRelease\n",
            "Hit:3 https://developer.download.nvidia.com/compute/cuda/repos/ubuntu1804/x86_64  InRelease\n",
            "Hit:4 https://developer.download.nvidia.com/compute/machine-learning/repos/ubuntu1804/x86_64  Release\n",
            "Hit:5 http://archive.ubuntu.com/ubuntu bionic InRelease\n",
            "Hit:6 http://security.ubuntu.com/ubuntu bionic-security InRelease\n",
            "Hit:7 http://ppa.launchpad.net/c2d4u.team/c2d4u4.0+/ubuntu bionic InRelease\n",
            "Hit:8 http://archive.ubuntu.com/ubuntu bionic-updates InRelease\n",
            "Hit:9 http://archive.ubuntu.com/ubuntu bionic-backports InRelease\n",
            "Hit:10 http://ppa.launchpad.net/cran/libgit2/ubuntu bionic InRelease\n",
            "Hit:11 http://ppa.launchpad.net/deadsnakes/ppa/ubuntu bionic InRelease\n",
            "Hit:12 http://ppa.launchpad.net/graphics-drivers/ppa/ubuntu bionic InRelease\n",
            "Reading package lists... Done\n"
          ]
        }
      ]
    },
    {
      "cell_type": "code",
      "execution_count": null,
      "id": "9a4f4e02",
      "metadata": {
        "id": "9a4f4e02"
      },
      "outputs": [],
      "source": [
        "from pyspark.ml.feature import Tokenizer\n",
        "from pyspark.sql import SparkSession\n",
        "import findspark\n",
        "findspark.init()"
      ]
    },
    {
      "cell_type": "code",
      "source": [
        "from google.colab import drive\n",
        "drive.mount('/content/drive')"
      ],
      "metadata": {
        "colab": {
          "base_uri": "https://localhost:8080/"
        },
        "id": "-EEteMUzCHi5",
        "outputId": "4091559f-1f47-48a4-fadd-117045d4173c"
      },
      "id": "-EEteMUzCHi5",
      "execution_count": null,
      "outputs": [
        {
          "output_type": "stream",
          "name": "stdout",
          "text": [
            "Mounted at /content/drive\n"
          ]
        }
      ]
    },
    {
      "cell_type": "code",
      "execution_count": null,
      "id": "c08b692c",
      "metadata": {
        "id": "c08b692c"
      },
      "outputs": [],
      "source": [
        "spark = SparkSession.builder.appName(\"Tokens\").getOrCreate()"
      ]
    },
    {
      "cell_type": "code",
      "execution_count": null,
      "id": "66d0d29b",
      "metadata": {
        "id": "66d0d29b"
      },
      "outputs": [],
      "source": [
        "news_spark = spark.read.csv(\"/content/drive/My Drive/pyspark_fake_cleaned.csv\",sep ='\\t', header = True)"
      ]
    },
    {
      "cell_type": "code",
      "execution_count": null,
      "id": "eb01521c",
      "metadata": {
        "scrolled": true,
        "colab": {
          "base_uri": "https://localhost:8080/"
        },
        "id": "eb01521c",
        "outputId": "cb021609-fe52-4441-9eb2-af21cc331d52"
      },
      "outputs": [
        {
          "output_type": "stream",
          "name": "stdout",
          "text": [
            "+---+--------------------+--------------------+-----+\n",
            "|_c0|               title|                text|label|\n",
            "+---+--------------------+--------------------+-----+\n",
            "|  0|LAW ENFORCEMENT O...|No comment is exp...|    1|\n",
            "|  1|                NONE|Did they post the...|    1|\n",
            "|  2|UNBELIEVABLE! OBA...| Now, most of the...|    1|\n",
            "|  3|Bobby Jindal, rai...|A dozen political...|    0|\n",
            "|  4|SATAN 2: Russia u...|The RS-28 Sarmat ...|    1|\n",
            "|  5|About Time! Chris...|All we can say on...|    1|\n",
            "|  6|DR BEN CARSON TAR...|DR. BEN CARSON TE...|    1|\n",
            "|  7|HOUSE INTEL CHAIR...|                NONE|    1|\n",
            "|  8|Sports Bar Owner ...|The owner of the ...|    1|\n",
            "|  9|Latest Pipeline L...|FILE – In this Se...|    1|\n",
            "| 10| GOP Senator Just...|\"The most punchab...|    1|\n",
            "| 11|May Brexit offer ...|BRUSSELS (Reuters...|    0|\n",
            "| 12|Schumer calls on ...|WASHINGTON (Reute...|    0|\n",
            "| 13|WATCH: HILARIOUS ...|After watching th...|    1|\n",
            "| 14|No Change Expecte...|As more and more ...|    0|\n",
            "| 15|Billionaire Odebr...|RIO DE JANEIRO/SA...|    0|\n",
            "| 16|BRITISH WOMAN LOS...|Europe is likely ...|    1|\n",
            "| 17|\"U.N. seeks human...|GENEVA (Reuters) ...|    0|\n",
            "| 18|MAJOR LIBERAL RAG...|The Atlantic, a p...|    1|\n",
            "| 19|Second judge says...|NEW YORK (Reuters...|    0|\n",
            "| 20|America gives Gra...|Wednesday 9 Novem...|    1|\n",
            "| 21|Hillary’s crime f...|Hillary’s crime f...|    1|\n",
            "| 22| Sean Spicer Baff...|On Tuesday, White...|    1|\n",
            "| 23|UNHOLY ALLIANCE: ...| 21st Century Wir...|    1|\n",
            "| 24| Even Trump’s Bes...|Recently, Joe Sca...|    1|\n",
            "| 25|BOOM! Danish Gove...|Is the European g...|    1|\n",
            "| 26|Supreme Court Won...|WASHINGTON  —   T...|    0|\n",
            "| 27|Islamic State dri...|BAGHDAD (Reuters)...|    0|\n",
            "| 28|Senators Propose ...|WASHINGTON  —   S...|    0|\n",
            "| 29|Do You Belong To ...|According to Sitc...|    1|\n",
            "| 30|Zimbabwe's Mugabe...|HARARE (Reuters) ...|    0|\n",
            "| 31|Credit Suisse Bos...|When Tidjane Thia...|    0|\n",
            "| 32|THE ROBBING OF IN...|The left believes...|    1|\n",
            "| 33|Schaeuble to head...|BERLIN (Reuters) ...|    0|\n",
            "| 34|At U.S.-China sum...|PALM BEACH, Fla. ...|    0|\n",
            "| 35|Clinton extends l...|NEW YORK (Reuters...|    0|\n",
            "| 36|JOE BIDEN’S SHOCK...|VP Joe Biden:  Ye...|    1|\n",
            "| 37|Comment une petit...|langues , enfants...|    1|\n",
            "| 38| Emboldened NRA T...|The NRA has a new...|    1|\n",
            "| 39| Noam Chomsky GOE...|It s no secret th...|    1|\n",
            "| 40|5 Ways The Media ...|The media doesn’t...|    1|\n",
            "| 41|Iran, Russia and ...|ASTANA, Kazakhsta...|    0|\n",
            "| 42|BREAKING: OBAMA P...|Putin Tells Russi...|    1|\n",
            "| 43|                NONE|\"True. Hillary ne...|    1|\n",
            "| 44|Trump says Brexit...|LONDON (Reuters) ...|    0|\n",
            "| 45|Sekulow: Expect ‘...|Jay Sekulow, Chie...|    0|\n",
            "| 46|Mayday on the Car...|The seven fisherm...|    0|\n",
            "| 47|Illinois House pa...|CHICAGO (Reuters)...|    0|\n",
            "| 48|AT&T, Time Warner...|AT&T, Time Warner...|    1|\n",
            "| 49|An Architect Who ...|Grand Central Ter...|    0|\n",
            "+---+--------------------+--------------------+-----+\n",
            "only showing top 50 rows\n",
            "\n"
          ]
        }
      ],
      "source": [
        "news_spark.show(50)"
      ]
    },
    {
      "cell_type": "code",
      "execution_count": null,
      "id": "b2cd9a0d",
      "metadata": {
        "id": "b2cd9a0d"
      },
      "outputs": [],
      "source": [
        "# Tokenize sentences\n",
        "tok_title = Tokenizer(inputCol=\"title\", outputCol=\"Tok_title\")\n",
        "tok_text = Tokenizer(inputCol = \"text\", outputCol= \"Tok_text\")"
      ]
    },
    {
      "cell_type": "code",
      "execution_count": null,
      "id": "50fb9827",
      "metadata": {
        "id": "50fb9827"
      },
      "outputs": [],
      "source": [
        ""
      ]
    },
    {
      "cell_type": "code",
      "execution_count": null,
      "id": "d002699e",
      "metadata": {
        "id": "d002699e"
      },
      "outputs": [],
      "source": [
        "def word_list_length(word_list):\n",
        "    return len(word_list)\n",
        "from pyspark.sql.functions import col, udf\n",
        "from pyspark.sql.types import IntegerType\n",
        "# Create a user defined function\n",
        "count_tokens = udf(word_list_length, IntegerType())"
      ]
    },
    {
      "cell_type": "code",
      "execution_count": null,
      "id": "13ada9a5",
      "metadata": {
        "colab": {
          "base_uri": "https://localhost:8080/"
        },
        "id": "13ada9a5",
        "outputId": "7753fb6e-5e3f-4879-e2f9-746cbd052c9c"
      },
      "outputs": [
        {
          "output_type": "stream",
          "name": "stdout",
          "text": [
            "+---+-----+--------------------+--------------------+------------+-----------+\n",
            "|_c0|label|           Tok_title|            Tok_text|title tokens|text tokens|\n",
            "+---+-----+--------------------+--------------------+------------+-----------+\n",
            "|  0|    1|[law, enforcement...|[no, comment, is,...|          18|        941|\n",
            "|  1|    1|              [none]|[did, they, post,...|           1|          8|\n",
            "+---+-----+--------------------+--------------------+------------+-----------+\n",
            "only showing top 2 rows\n",
            "\n"
          ]
        }
      ],
      "source": [
        "tokenized_df = tok_title.transform(news_spark)\n",
        "tokenized_df = tok_text.transform(tokenized_df)\n",
        "tokenized_df = tokenized_df.withColumn(\"title tokens\", count_tokens(col(\"Tok_title\")))\n",
        "tokenized_df =  tokenized_df.withColumn(\"text tokens\", count_tokens(col(\"Tok_text\")))\n",
        "tokenized_df = tokenized_df.drop(\"title\",\"text\")\n",
        "tokenized_df.show(2)"
      ]
    },
    {
      "cell_type": "code",
      "execution_count": null,
      "id": "a78f5bd1",
      "metadata": {
        "colab": {
          "base_uri": "https://localhost:8080/"
        },
        "id": "a78f5bd1",
        "outputId": "c556e5e4-a1c3-4dec-de97-6d0dd0b0461d"
      },
      "outputs": [
        {
          "output_type": "stream",
          "name": "stdout",
          "text": [
            "+---+-----+--------------------+--------------------+------------+-----------+--------------------+--------------------+\n",
            "|_c0|label|           Tok_title|            Tok_text|title tokens|text tokens|          stop_title|           stop_text|\n",
            "+---+-----+--------------------+--------------------+------------+-----------+--------------------+--------------------+\n",
            "|  0|    1|[law, enforcement...|[no, comment, is,...|          18|        941|[law, enforcement...|[comment, expecte...|\n",
            "|  1|    1|              [none]|[did, they, post,...|           1|          8|              [none]|[post, votes, hil...|\n",
            "|  2|    1|[unbelievable!, o...|[, now,, most, of...|          18|         38|[unbelievable!, o...|[, now,, demonstr...|\n",
            "|  3|    0|[bobby, jindal,, ...|[a, dozen, politi...|          16|       1290|[bobby, jindal,, ...|[dozen, political...|\n",
            "|  4|    1|[satan, 2:, russi...|[the, rs-28, sarm...|          16|        329|[satan, 2:, russi...|[rs-28, sarmat, m...|\n",
            "|  5|    1|[about, time!, ch...|[all, we, can, sa...|          13|        255|[time!, christian...|[say, one, time, ...|\n",
            "|  6|    1|[dr, ben, carson,...|[dr., ben, carson...|          20|         15|[dr, ben, carson,...|[dr., ben, carson...|\n",
            "|  7|    1|[house, intel, ch...|              [none]|          12|          1|[house, intel, ch...|              [none]|\n",
            "|  8|    1|[sports, bar, own...|[the, owner, of, ...|          19|        270|[sports, bar, own...|[owner, ringling,...|\n",
            "|  9|    1|[latest, pipeline...|[file, –, in, thi...|           9|        473|[latest, pipeline...|[file, –, sept., ...|\n",
            "| 10|    1|[, gop, senator, ...|[\"the, most, punc...|          14|        724|[, gop, senator, ...|[\"the, punchable,...|\n",
            "| 11|    0|[may, brexit, off...|[brussels, (reute...|          11|        406|[may, brexit, off...|[brussels, (reute...|\n",
            "| 12|    0|[schumer, calls, ...|[washington, (reu...|          12|        430|[schumer, calls, ...|[washington, (reu...|\n",
            "| 13|    1|[watch:, hilariou...|[after, watching,...|          13|         38|[watch:, hilariou...|[watching, tellin...|\n",
            "| 14|    0|[no, change, expe...|[as, more, and, m...|          13|        517|[change, expected...|[sports, fans, tu...|\n",
            "| 15|    0|[billionaire, ode...|[rio, de, janeiro...|           9|        256|[billionaire, ode...|[rio, de, janeiro...|\n",
            "| 16|    1|[british, woman, ...|[europe, is, like...|          13|        626|[british, woman, ...|[europe, likely, ...|\n",
            "| 17|    0|[\"u.n., seeks, hu...|[geneva, (reuters...|           9|        158|[\"u.n., seeks, hu...|[geneva, (reuters...|\n",
            "| 18|    1|[major, liberal, ...|[the, atlantic,, ...|          20|       1158|[major, liberal, ...|[atlantic,, publi...|\n",
            "| 19|    0|[second, judge, s...|[new, york, (reut...|          12|        410|[second, judge, s...|[new, york, (reut...|\n",
            "+---+-----+--------------------+--------------------+------------+-----------+--------------------+--------------------+\n",
            "only showing top 20 rows\n",
            "\n"
          ]
        }
      ],
      "source": [
        "from pyspark.ml.feature import StopWordsRemover\n",
        "stop_title = StopWordsRemover(inputCol=\"Tok_title\", outputCol=\"stop_title\")\n",
        "stop_text = StopWordsRemover(inputCol=\"Tok_text\", outputCol=\"stop_text\")\n",
        "filtered = stop_title.transform(tokenized_df)\n",
        "filtered = stop_text.transform(filtered)\n",
        "filtered.show()"
      ]
    },
    {
      "cell_type": "code",
      "execution_count": null,
      "id": "ae6a48a8",
      "metadata": {
        "colab": {
          "base_uri": "https://localhost:8080/"
        },
        "id": "ae6a48a8",
        "outputId": "946f7b32-619d-4439-b452-aee6016a6f8b"
      },
      "outputs": [
        {
          "output_type": "stream",
          "name": "stdout",
          "text": [
            "+---+-----+--------------------+--------------------+------------+-----------+--------------------+--------------------+--------------------+--------------------+\n",
            "|_c0|label|           Tok_title|            Tok_text|title tokens|text tokens|          stop_title|           stop_text|          hash_title|           hash_text|\n",
            "+---+-----+--------------------+--------------------+------------+-----------+--------------------+--------------------+--------------------+--------------------+\n",
            "|  0|    1|[law, enforcement...|[no, comment, is,...|          18|        941|[law, enforcement...|[comment, expecte...|(262144,[19684,22...|(262144,[619,992,...|\n",
            "|  1|    1|              [none]|[did, they, post,...|           1|          8|              [none]|[post, votes, hil...|(262144,[110743],...|(262144,[84100,10...|\n",
            "|  2|    1|[unbelievable!, o...|[, now,, most, of...|          18|         38|[unbelievable!, o...|[, now,, demonstr...|(262144,[17893,31...|(262144,[3564,538...|\n",
            "|  3|    0|[bobby, jindal,, ...|[a, dozen, politi...|          16|       1290|[bobby, jindal,, ...|[dozen, political...|(262144,[54679,11...|(262144,[511,1546...|\n",
            "|  4|    1|[satan, 2:, russi...|[the, rs-28, sarm...|          16|        329|[satan, 2:, russi...|[rs-28, sarmat, m...|(262144,[3571,171...|(262144,[161,921,...|\n",
            "|  5|    1|[about, time!, ch...|[all, we, can, sa...|          13|        255|[time!, christian...|[say, one, time, ...|(262144,[30367,72...|(262144,[2162,227...|\n",
            "|  6|    1|[dr, ben, carson,...|[dr., ben, carson...|          20|         15|[dr, ben, carson,...|[dr., ben, carson...|(262144,[36217,83...|(262144,[29066,95...|\n",
            "|  7|    1|[house, intel, ch...|              [none]|          12|          1|[house, intel, ch...|              [none]|(262144,[20326,31...|(262144,[110743],...|\n",
            "|  8|    1|[sports, bar, own...|[the, owner, of, ...|          19|        270|[sports, bar, own...|[owner, ringling,...|(262144,[31895,66...|(262144,[960,6957...|\n",
            "|  9|    1|[latest, pipeline...|[file, –, in, thi...|           9|        473|[latest, pipeline...|[file, –, sept., ...|(262144,[41421,59...|(262144,[1546,160...|\n",
            "| 10|    1|[, gop, senator, ...|[\"the, most, punc...|          14|        724|[, gop, senator, ...|[\"the, punchable,...|(262144,[47685,92...|(262144,[751,1512...|\n",
            "| 11|    0|[may, brexit, off...|[brussels, (reute...|          11|        406|[may, brexit, off...|[brussels, (reute...|(262144,[18923,38...|(262144,[115,1772...|\n",
            "| 12|    0|[schumer, calls, ...|[washington, (reu...|          12|        430|[schumer, calls, ...|[washington, (reu...|(262144,[36525,44...|(262144,[1096,153...|\n",
            "| 13|    1|[watch:, hilariou...|[after, watching,...|          13|         38|[watch:, hilariou...|[watching, tellin...|(262144,[33803,62...|(262144,[2437,523...|\n",
            "| 14|    0|[no, change, expe...|[as, more, and, m...|          13|        517|[change, expected...|[sports, fans, tu...|(262144,[968,3864...|(262144,[1115,253...|\n",
            "| 15|    0|[billionaire, ode...|[rio, de, janeiro...|           9|        256|[billionaire, ode...|[rio, de, janeiro...|(262144,[25838,60...|(262144,[2015,230...|\n",
            "| 16|    1|[british, woman, ...|[europe, is, like...|          13|        626|[british, woman, ...|[europe, likely, ...|(262144,[28155,51...|(262144,[1619,392...|\n",
            "| 17|    0|[\"u.n., seeks, hu...|[geneva, (reuters...|           9|        158|[\"u.n., seeks, hu...|[geneva, (reuters...|(262144,[16398,10...|(262144,[2622,594...|\n",
            "| 18|    1|[major, liberal, ...|[the, atlantic,, ...|          20|       1158|[major, liberal, ...|[atlantic,, publi...|(262144,[22124,37...|(262144,[1519,154...|\n",
            "| 19|    0|[second, judge, s...|[new, york, (reut...|          12|        410|[second, judge, s...|[new, york, (reut...|(262144,[31544,75...|(262144,[3148,356...|\n",
            "+---+-----+--------------------+--------------------+------------+-----------+--------------------+--------------------+--------------------+--------------------+\n",
            "only showing top 20 rows\n",
            "\n"
          ]
        }
      ],
      "source": [
        "from pyspark.ml.feature import Tokenizer, StopWordsRemover, HashingTF, IDF, StringIndexer\n",
        "hashingTF1 = HashingTF(inputCol=\"stop_title\", outputCol=\"hash_title\")\n",
        "hashingTF2 = HashingTF(inputCol=\"stop_text\", outputCol=\"hash_text\")\n",
        "hashed_df = hashingTF1.transform(filtered)\n",
        "hashed_df = hashingTF2.transform(hashed_df)\n",
        "\n",
        "hashed_df.show()"
      ]
    },
    {
      "cell_type": "code",
      "execution_count": null,
      "id": "23dd082f",
      "metadata": {
        "colab": {
          "base_uri": "https://localhost:8080/"
        },
        "id": "23dd082f",
        "outputId": "3428d73c-2cb5-4de7-e7f6-a57b0bff5594"
      },
      "outputs": [
        {
          "output_type": "stream",
          "name": "stdout",
          "text": [
            "+--------------------+--------------------+--------------------+\n",
            "|          hash_title|           hash_text|           idf_title|\n",
            "+--------------------+--------------------+--------------------+\n",
            "|(262144,[19684,22...|(262144,[619,992,...|(262144,[19684,22...|\n",
            "|(262144,[110743],...|(262144,[84100,10...|(262144,[110743],...|\n",
            "|(262144,[17893,31...|(262144,[3564,538...|(262144,[17893,31...|\n",
            "|(262144,[54679,11...|(262144,[511,1546...|(262144,[54679,11...|\n",
            "|(262144,[3571,171...|(262144,[161,921,...|(262144,[3571,171...|\n",
            "|(262144,[30367,72...|(262144,[2162,227...|(262144,[30367,72...|\n",
            "|(262144,[36217,83...|(262144,[29066,95...|(262144,[36217,83...|\n",
            "|(262144,[20326,31...|(262144,[110743],...|(262144,[20326,31...|\n",
            "|(262144,[31895,66...|(262144,[960,6957...|(262144,[31895,66...|\n",
            "|(262144,[41421,59...|(262144,[1546,160...|(262144,[41421,59...|\n",
            "|(262144,[47685,92...|(262144,[751,1512...|(262144,[47685,92...|\n",
            "|(262144,[18923,38...|(262144,[115,1772...|(262144,[18923,38...|\n",
            "|(262144,[36525,44...|(262144,[1096,153...|(262144,[36525,44...|\n",
            "|(262144,[33803,62...|(262144,[2437,523...|(262144,[33803,62...|\n",
            "|(262144,[968,3864...|(262144,[1115,253...|(262144,[968,3864...|\n",
            "|(262144,[25838,60...|(262144,[2015,230...|(262144,[25838,60...|\n",
            "|(262144,[28155,51...|(262144,[1619,392...|(262144,[28155,51...|\n",
            "|(262144,[16398,10...|(262144,[2622,594...|(262144,[16398,10...|\n",
            "|(262144,[22124,37...|(262144,[1519,154...|(262144,[22124,37...|\n",
            "|(262144,[31544,75...|(262144,[3148,356...|(262144,[31544,75...|\n",
            "+--------------------+--------------------+--------------------+\n",
            "only showing top 20 rows\n",
            "\n",
            "+--------------------+--------------------+--------------------+--------------------+\n",
            "|          hash_title|           hash_text|           idf_title|            idf_text|\n",
            "+--------------------+--------------------+--------------------+--------------------+\n",
            "|(262144,[19684,22...|(262144,[619,992,...|(262144,[19684,22...|(262144,[619,992,...|\n",
            "|(262144,[110743],...|(262144,[84100,10...|(262144,[110743],...|(262144,[84100,10...|\n",
            "|(262144,[17893,31...|(262144,[3564,538...|(262144,[17893,31...|(262144,[3564,538...|\n",
            "|(262144,[54679,11...|(262144,[511,1546...|(262144,[54679,11...|(262144,[511,1546...|\n",
            "|(262144,[3571,171...|(262144,[161,921,...|(262144,[3571,171...|(262144,[161,921,...|\n",
            "|(262144,[30367,72...|(262144,[2162,227...|(262144,[30367,72...|(262144,[2162,227...|\n",
            "|(262144,[36217,83...|(262144,[29066,95...|(262144,[36217,83...|(262144,[29066,95...|\n",
            "|(262144,[20326,31...|(262144,[110743],...|(262144,[20326,31...|(262144,[110743],...|\n",
            "|(262144,[31895,66...|(262144,[960,6957...|(262144,[31895,66...|(262144,[960,6957...|\n",
            "|(262144,[41421,59...|(262144,[1546,160...|(262144,[41421,59...|(262144,[1546,160...|\n",
            "|(262144,[47685,92...|(262144,[751,1512...|(262144,[47685,92...|(262144,[751,1512...|\n",
            "|(262144,[18923,38...|(262144,[115,1772...|(262144,[18923,38...|(262144,[115,1772...|\n",
            "|(262144,[36525,44...|(262144,[1096,153...|(262144,[36525,44...|(262144,[1096,153...|\n",
            "|(262144,[33803,62...|(262144,[2437,523...|(262144,[33803,62...|(262144,[2437,523...|\n",
            "|(262144,[968,3864...|(262144,[1115,253...|(262144,[968,3864...|(262144,[1115,253...|\n",
            "|(262144,[25838,60...|(262144,[2015,230...|(262144,[25838,60...|(262144,[2015,230...|\n",
            "|(262144,[28155,51...|(262144,[1619,392...|(262144,[28155,51...|(262144,[1619,392...|\n",
            "|(262144,[16398,10...|(262144,[2622,594...|(262144,[16398,10...|(262144,[2622,594...|\n",
            "|(262144,[22124,37...|(262144,[1519,154...|(262144,[22124,37...|(262144,[1519,154...|\n",
            "|(262144,[31544,75...|(262144,[3148,356...|(262144,[31544,75...|(262144,[3148,356...|\n",
            "+--------------------+--------------------+--------------------+--------------------+\n",
            "only showing top 20 rows\n",
            "\n"
          ]
        }
      ],
      "source": [
        "idf1 = IDF(inputCol=\"hash_title\", outputCol=\"idf_title\")\n",
        "idf2 = IDF(inputCol=\"hash_text\", outputCol=\"idf_text\")\n",
        "idfModel = idf1.fit(hashed_df)\n",
        "rescaledData = idfModel.transform(hashed_df)\n",
        "rescaledData.select(\"hash_title\", \"hash_text\", \"idf_title\").show()\n",
        "idfModel = idf2.fit(rescaledData)\n",
        "rescaledData = idfModel.transform(rescaledData)\n",
        "rescaledData.select(\"hash_title\", \"hash_text\", \"idf_title\", \"idf_text\").show()"
      ]
    },
    {
      "cell_type": "code",
      "execution_count": null,
      "id": "e32d337d",
      "metadata": {
        "id": "e32d337d"
      },
      "outputs": [],
      "source": [
        "from pyspark.ml.feature import VectorAssembler\n",
        "from pyspark.ml.linalg import Vector\n",
        "clean = VectorAssembler(inputCols=['idf_text', 'text tokens'], outputCol='features')"
      ]
    },
    {
      "cell_type": "code",
      "execution_count": null,
      "id": "c48e0ba9",
      "metadata": {
        "id": "c48e0ba9"
      },
      "outputs": [],
      "source": [
        "cleaned = clean.transform(rescaledData)"
      ]
    },
    {
      "cell_type": "code",
      "execution_count": null,
      "id": "ea941f69",
      "metadata": {
        "colab": {
          "base_uri": "https://localhost:8080/"
        },
        "id": "ea941f69",
        "outputId": "b0671f59-21b5-4e3c-ab89-2ea91a89236d"
      },
      "outputs": [
        {
          "output_type": "stream",
          "name": "stdout",
          "text": [
            "+-----+--------------------+\n",
            "|label|            features|\n",
            "+-----+--------------------+\n",
            "|    1|(262145,[619,992,...|\n",
            "|    1|(262145,[84100,10...|\n",
            "|    1|(262145,[3564,538...|\n",
            "|    0|(262145,[511,1546...|\n",
            "|    1|(262145,[161,921,...|\n",
            "|    1|(262145,[2162,227...|\n",
            "|    1|(262145,[29066,95...|\n",
            "|    1|(262145,[110743,2...|\n",
            "|    1|(262145,[960,6957...|\n",
            "|    1|(262145,[1546,160...|\n",
            "|    1|(262145,[751,1512...|\n",
            "|    0|(262145,[115,1772...|\n",
            "|    0|(262145,[1096,153...|\n",
            "|    1|(262145,[2437,523...|\n",
            "|    0|(262145,[1115,253...|\n",
            "|    0|(262145,[2015,230...|\n",
            "|    1|(262145,[1619,392...|\n",
            "|    0|(262145,[2622,594...|\n",
            "|    1|(262145,[1519,154...|\n",
            "|    0|(262145,[3148,356...|\n",
            "+-----+--------------------+\n",
            "only showing top 20 rows\n",
            "\n"
          ]
        }
      ],
      "source": [
        "\n",
        "cleaned.select('label','features').show()"
      ]
    },
    {
      "cell_type": "code",
      "execution_count": null,
      "id": "a5504bff",
      "metadata": {
        "colab": {
          "base_uri": "https://localhost:8080/"
        },
        "id": "a5504bff",
        "outputId": "c7469d5f-acf2-4f23-a4dd-32603a336ae6"
      },
      "outputs": [
        {
          "output_type": "execute_result",
          "data": {
            "text/plain": [
              "[Row(label='0'), Row(label='1')]"
            ]
          },
          "metadata": {},
          "execution_count": 22
        }
      ],
      "source": [
        "cleaned.select(\"label\").distinct().collect()"
      ]
    },
    {
      "cell_type": "code",
      "execution_count": null,
      "id": "991839c3",
      "metadata": {
        "id": "991839c3"
      },
      "outputs": [],
      "source": [
        "cleaned = cleaned.withColumn(\"label\", cleaned[\"label\"].cast('numeric'))"
      ]
    },
    {
      "cell_type": "code",
      "execution_count": null,
      "id": "2d4d7290",
      "metadata": {
        "id": "2d4d7290"
      },
      "outputs": [],
      "source": [
        "cleaned = cleaned.select(\"label\",\"features\")"
      ]
    },
    {
      "cell_type": "code",
      "execution_count": null,
      "id": "717d2eb8",
      "metadata": {
        "id": "717d2eb8"
      },
      "outputs": [],
      "source": [
        "training, testing = cleaned.randomSplit([0.7, 0.3], 21)"
      ]
    },
    {
      "cell_type": "code",
      "execution_count": null,
      "id": "4f42009c",
      "metadata": {
        "id": "4f42009c"
      },
      "outputs": [],
      "source": [
        "from pyspark.ml.classification import NaiveBayes\n",
        "# Create a Naive Bayes model and fit training data\n",
        "nb = NaiveBayes()\n",
        "predictor = nb.fit(training)"
      ]
    },
    {
      "cell_type": "code",
      "execution_count": null,
      "id": "c11a6b10",
      "metadata": {
        "colab": {
          "base_uri": "https://localhost:8080/"
        },
        "id": "c11a6b10",
        "outputId": "fdd7546e-b721-4f85-8732-ae263bc55975"
      },
      "outputs": [
        {
          "output_type": "stream",
          "name": "stdout",
          "text": [
            "+-----+--------------------+--------------------+--------------------+----------+\n",
            "|label|            features|       rawPrediction|         probability|prediction|\n",
            "+-----+--------------------+--------------------+--------------------+----------+\n",
            "|    0|(262145,[4,666,12...|[-39327.190298613...|           [1.0,0.0]|       0.0|\n",
            "|    0|(262145,[6,154,38...|[-10563.451320627...|[1.0,2.0315050853...|       0.0|\n",
            "|    0|(262145,[6,619,64...|[-34415.988250408...|[1.0,2.3592609958...|       0.0|\n",
            "|    0|(262145,[6,619,15...|[-37983.562046146...|           [1.0,0.0]|       0.0|\n",
            "|    0|(262145,[6,921,15...|[-23047.776539665...|           [1.0,0.0]|       0.0|\n",
            "+-----+--------------------+--------------------+--------------------+----------+\n",
            "only showing top 5 rows\n",
            "\n"
          ]
        }
      ],
      "source": [
        "test_results = predictor.transform(testing)\n",
        "test_results.show(5)"
      ]
    },
    {
      "cell_type": "code",
      "source": [
        "from pyspark.ml.evaluation import BinaryClassificationEvaluator\n",
        "acc_eval = BinaryClassificationEvaluator(labelCol='label', rawPredictionCol = 'prediction')\n",
        "acc = acc_eval.evaluate(test_results)\n",
        "print(\"Accuracy of model at predicting fake news was : %f\" % acc)"
      ],
      "metadata": {
        "colab": {
          "base_uri": "https://localhost:8080/"
        },
        "id": "Ld00rRHYFM_r",
        "outputId": "aa5cdc47-b46b-4341-d966-f400dcd97eba"
      },
      "id": "Ld00rRHYFM_r",
      "execution_count": null,
      "outputs": [
        {
          "output_type": "stream",
          "name": "stdout",
          "text": [
            "Accuracy of model at predicting fake news was : 0.938895\n"
          ]
        }
      ]
    },
    {
      "cell_type": "code",
      "execution_count": null,
      "id": "a6d75b34",
      "metadata": {
        "id": "a6d75b34"
      },
      "outputs": [],
      "source": [
        "news_df[\"title\"].str.split(expand=True).stack().value_counts()"
      ]
    }
  ],
  "metadata": {
    "kernelspec": {
      "display_name": "mlenv",
      "language": "python",
      "name": "mlenv"
    },
    "language_info": {
      "codemirror_mode": {
        "name": "ipython",
        "version": 3
      },
      "file_extension": ".py",
      "mimetype": "text/x-python",
      "name": "python",
      "nbconvert_exporter": "python",
      "pygments_lexer": "ipython3",
      "version": "3.7.11"
    },
    "colab": {
      "name": "Mashine_learning.ipynb",
      "provenance": []
    }
  },
  "nbformat": 4,
  "nbformat_minor": 5
}